{
 "cells": [
  {
   "cell_type": "markdown",
   "metadata": {},
   "source": [
    "<!--Información del curso-->\n",
    "<img align=\"left\" style=\"padding-right:10px;\" src=\"figuras/logo_ciencia_datos.png\">"
   ]
  },
  {
   "cell_type": "markdown",
   "metadata": {},
   "source": [
    "<center><h1 style=\"font-size:2em;color:#2467C0\"> Pandas -Parte 1  </h1></center>\n",
    "\n",
    "<center><h2 style=\"font-size:2em;color:#840700\">  Pandas - Series y DataFrames  </h4></center>"
   ]
  },
  {
   "cell_type": "markdown",
   "metadata": {},
   "source": [
    "# Librerías\n",
    "\n",
    "Cargando las bibliotecas que necesitamos \n"
   ]
  },
  {
   "cell_type": "code",
   "execution_count": 6,
   "metadata": {},
   "outputs": [],
   "source": [
    "import pandas as pd\n",
    "import numpy as np\n",
    "import matplotlib.pyplot as plt"
   ]
  },
  {
   "cell_type": "markdown",
   "metadata": {},
   "source": [
    "# Ejercicio"
   ]
  },
  {
   "cell_type": "markdown",
   "metadata": {},
   "source": [
    "<div class=\"alert alert-success\">\n",
    "\n",
    "**Creación de un DataFrame con series y diccionarios**\n",
    "    \n",
    "1. Definir un DataFrame a partir de 5 series y cada Serie a partir de un diccionario (de algún mismo tópico), considerando  6 características diferentes y combinando tipos de variables (cuantitativas y cualitativas), también puede omitir algunos valores. \n",
    "</div>"
   ]
  },
  {
   "cell_type": "code",
   "execution_count": 7,
   "metadata": {},
   "outputs": [
    {
     "data": {
      "text/plain": [
       "Year                  2015\n",
       "Calificacion           7.4\n",
       "Rank Overall           655\n",
       "Playing Time     60-75 min\n",
       "Number player          3-4\n",
       "Type              Strategy\n",
       "dtype: object"
      ]
     },
     "execution_count": 7,
     "metadata": {},
     "output_type": "execute_result"
    }
   ],
   "source": [
    "game_Super= {'Year':2015,'Calificacion':7.4, 'Rank Overall':655, 'Playing Time': '60-75 min', 'Number player': '3-4','Type': 'Strategy'}\n",
    "\n",
    "SuperMotherload= pd.Series(game_Super)\n",
    "SuperMotherload"
   ]
  },
  {
   "cell_type": "code",
   "execution_count": 8,
   "metadata": {},
   "outputs": [
    {
     "data": {
      "text/plain": [
       "Year                    2016\n",
       "Calificacion             8.4\n",
       "Rank Overall               8\n",
       "Playing Time     180-240 min\n",
       "Number player            2-4\n",
       "Type                Thematic\n",
       "dtype: object"
      ]
     },
     "execution_count": 8,
     "metadata": {},
     "output_type": "execute_result"
    }
   ],
   "source": [
    "game_star= {'Year':2016,'Calificacion':8.4, 'Rank Overall':8, 'Playing Time': '180-240 min', 'Number player': '2-4','Type': 'Thematic'}\n",
    "\n",
    "StarWars_Rebellion= pd.Series(game_star)\n",
    "StarWars_Rebellion"
   ]
  },
  {
   "cell_type": "code",
   "execution_count": 9,
   "metadata": {},
   "outputs": [
    {
     "data": {
      "text/plain": [
       "Year                    2012\n",
       "Calificacion             7.8\n",
       "Rank Overall              86\n",
       "Playing Time     120-240 min\n",
       "Number player            1-8\n",
       "Type                Thematic\n",
       "dtype: object"
      ]
     },
     "execution_count": 9,
     "metadata": {},
     "output_type": "execute_result"
    }
   ],
   "source": [
    "game_eldri= {'Year':2012,'Calificacion':7.8, 'Rank Overall':86, 'Playing Time': '120-240 min', 'Number player': '1-8','Type': 'Thematic'}\n",
    "\n",
    "EldritchHorror= pd.Series(game_eldri)\n",
    "EldritchHorror"
   ]
  },
  {
   "cell_type": "code",
   "execution_count": 10,
   "metadata": {},
   "outputs": [
    {
     "data": {
      "text/plain": [
       "Year                   2019\n",
       "Calificacion            8.2\n",
       "Rank Overall            139\n",
       "Playing Time     90-120 min\n",
       "Number player           1-5\n",
       "Type               Thematic\n",
       "dtype: object"
      ]
     },
     "execution_count": 10,
     "metadata": {},
     "output_type": "execute_result"
    }
   ],
   "source": [
    "game_cthul= {'Year':2019,'Calificacion':8.2, 'Rank Overall':139, 'Playing Time': '90-120 min', 'Number player': '1-5','Type': 'Thematic'}\n",
    "\n",
    "CthulhuDeathMayDie= pd.Series(game_cthul)\n",
    "CthulhuDeathMayDie"
   ]
  },
  {
   "cell_type": "code",
   "execution_count": 11,
   "metadata": {},
   "outputs": [
    {
     "data": {
      "text/plain": [
       "Year               2018\n",
       "Calificacion        7.6\n",
       "Rank Overall        200\n",
       "Playing Time     60 min\n",
       "Number player       2-5\n",
       "Type             Family\n",
       "dtype: object"
      ]
     },
     "execution_count": 11,
     "metadata": {},
     "output_type": "execute_result"
    }
   ],
   "source": [
    "game_space= {'Year':2018,'Calificacion':7.6, 'Rank Overall':200, 'Playing Time': '60 min', 'Number player': '2-5','Type': 'Family'}\n",
    "\n",
    "SpaceBase= pd.Series(game_space)\n",
    "SpaceBase"
   ]
  },
  {
   "cell_type": "code",
   "execution_count": 12,
   "metadata": {},
   "outputs": [
    {
     "data": {
      "text/html": [
       "<div>\n",
       "<style scoped>\n",
       "    .dataframe tbody tr th:only-of-type {\n",
       "        vertical-align: middle;\n",
       "    }\n",
       "\n",
       "    .dataframe tbody tr th {\n",
       "        vertical-align: top;\n",
       "    }\n",
       "\n",
       "    .dataframe thead th {\n",
       "        text-align: right;\n",
       "    }\n",
       "</style>\n",
       "<table border=\"1\" class=\"dataframe\">\n",
       "  <thead>\n",
       "    <tr style=\"text-align: right;\">\n",
       "      <th></th>\n",
       "      <th>SuperMotherload</th>\n",
       "      <th>StarWars Rebellion</th>\n",
       "      <th>EldritchHorror</th>\n",
       "      <th>CthulhuDeathMayDie</th>\n",
       "      <th>SpaceBase</th>\n",
       "    </tr>\n",
       "  </thead>\n",
       "  <tbody>\n",
       "    <tr>\n",
       "      <th>Year</th>\n",
       "      <td>2015</td>\n",
       "      <td>2016</td>\n",
       "      <td>2012</td>\n",
       "      <td>2019</td>\n",
       "      <td>2018</td>\n",
       "    </tr>\n",
       "    <tr>\n",
       "      <th>Calificacion</th>\n",
       "      <td>7.4</td>\n",
       "      <td>8.4</td>\n",
       "      <td>7.8</td>\n",
       "      <td>8.2</td>\n",
       "      <td>7.6</td>\n",
       "    </tr>\n",
       "    <tr>\n",
       "      <th>Rank Overall</th>\n",
       "      <td>655</td>\n",
       "      <td>8</td>\n",
       "      <td>86</td>\n",
       "      <td>139</td>\n",
       "      <td>200</td>\n",
       "    </tr>\n",
       "    <tr>\n",
       "      <th>Playing Time</th>\n",
       "      <td>60-75 min</td>\n",
       "      <td>180-240 min</td>\n",
       "      <td>120-240 min</td>\n",
       "      <td>90-120 min</td>\n",
       "      <td>60 min</td>\n",
       "    </tr>\n",
       "    <tr>\n",
       "      <th>Number player</th>\n",
       "      <td>3-4</td>\n",
       "      <td>2-4</td>\n",
       "      <td>1-8</td>\n",
       "      <td>1-5</td>\n",
       "      <td>2-5</td>\n",
       "    </tr>\n",
       "    <tr>\n",
       "      <th>Type</th>\n",
       "      <td>Strategy</td>\n",
       "      <td>Thematic</td>\n",
       "      <td>Thematic</td>\n",
       "      <td>Thematic</td>\n",
       "      <td>Family</td>\n",
       "    </tr>\n",
       "  </tbody>\n",
       "</table>\n",
       "</div>"
      ],
      "text/plain": [
       "              SuperMotherload StarWars Rebellion EldritchHorror  \\\n",
       "Year                     2015               2016           2012   \n",
       "Calificacion              7.4                8.4            7.8   \n",
       "Rank Overall              655                  8             86   \n",
       "Playing Time        60-75 min        180-240 min    120-240 min   \n",
       "Number player             3-4                2-4            1-8   \n",
       "Type                 Strategy           Thematic       Thematic   \n",
       "\n",
       "              CthulhuDeathMayDie SpaceBase  \n",
       "Year                        2019      2018  \n",
       "Calificacion                 8.2       7.6  \n",
       "Rank Overall                 139       200  \n",
       "Playing Time          90-120 min    60 min  \n",
       "Number player                1-5       2-5  \n",
       "Type                    Thematic    Family  "
      ]
     },
     "execution_count": 12,
     "metadata": {},
     "output_type": "execute_result"
    }
   ],
   "source": [
    "df_games= pd.DataFrame({'SuperMotherload':SuperMotherload,\n",
    "              'StarWars Rebellion': StarWars_Rebellion, \n",
    "              'EldritchHorror': EldritchHorror, \n",
    "              'CthulhuDeathMayDie': CthulhuDeathMayDie, \n",
    "              'SpaceBase': SpaceBase,               \n",
    "             })\n",
    "df_games"
   ]
  },
  {
   "cell_type": "markdown",
   "metadata": {},
   "source": [
    "<div class=\"alert alert-success\">\n",
    "    \n",
    "**Creación de un DataFrame vacío**\n",
    "    \n",
    "2. Definir un DataFrame que contenga un listado de 5 datos de 10 personas (utilizar el método del siguiente ejemplo). \n",
    "</div>\n",
    "\n",
    "Ejemplo:\n",
    "\n",
    "\n",
    "``` python\n",
    "import pandas as pd\n",
    "df = pd.DataFrame()\n",
    "df['first_name'] = ['Josy', 'Vaughn', 'Neale', 'Teirtza']\n",
    "df['last_name'] = ['Clarae', 'Halegarth', 'Georgievski', 'Teirtza']\n",
    "df['gender'] = ['Female', 'Male', 'Male', 'Female']\n",
    "print(df)\n",
    "\n",
    "\n",
    "  first_name    last_name  gender\n",
    "0       Josy       Clarae  Female\n",
    "1     Vaughn    Halegarth    Male\n",
    "2      Neale  Georgievski    Male\n",
    "3    Teirtza      Teirtza  Female\n",
    "\n",
    "```"
   ]
  },
  {
   "cell_type": "code",
   "execution_count": 13,
   "metadata": {},
   "outputs": [
    {
     "name": "stdout",
     "output_type": "stream",
     "text": [
      "   first_name    last_name  gender  number  Weight\n",
      "0        Josy       Clarae  Female    9999      55\n",
      "1      Vaughn    Halegarth    Male    8888      60\n",
      "2       Neale  Georgievski    Male    7777      70\n",
      "3     Teirtza      Teirtza  Female    6666      80\n",
      "4       Clara        Sooon  Female    5555      55\n",
      "5      Fatima         Voon  Female    4444      60\n",
      "6       Clark         Kent    Male    3333      90\n",
      "7       Bruce        Wayne    Male    2222      85\n",
      "8       Peter       Parker    Male    1111      80\n",
      "9       Diana       Prince  Female    9874      86\n",
      "10    Antonio        Ayora    Male     666      72\n"
     ]
    }
   ],
   "source": [
    "import pandas as pd\n",
    "df = pd.DataFrame()\n",
    "df['first_name'] = ['Josy', 'Vaughn', 'Neale', 'Teirtza','Clara','Fatima','Clark','Bruce','Peter','Diana','Antonio']\n",
    "df['last_name'] = ['Clarae', 'Halegarth', 'Georgievski', 'Teirtza','Sooon','Voon','Kent','Wayne','Parker','Prince','Ayora']\n",
    "df['gender'] = ['Female', 'Male', 'Male', 'Female','Female','Female','Male','Male','Male','Female','Male']\n",
    "df['number']=[9999,8888,7777,6666,5555,4444,3333,2222,1111,9874,666]\n",
    "df['Weight']=[55,60,70,80,55,60,90,85,80,86,72]\n",
    "print(df)"
   ]
  },
  {
   "cell_type": "markdown",
   "metadata": {},
   "source": [
    "<div class=\"alert alert-success\">\n",
    "\n",
    "**Creación de un DataFrame vacío con columnas**\n",
    "\n",
    "3. Definir un DataFrame que contenga un listado de 4 parámetros de 6 modelos de automóviles (utilizar el método del siguiente ejemplo). \n",
    "</div>\n",
    "\n",
    "Ejemplo:\n",
    "\n",
    "\n",
    "``` python\n",
    "import pandas as pd\n",
    "df = pd.DataFrame()\n",
    "df = pd.DataFrame(columns=['first_name', 'last_name', 'gender'])\n",
    "df = df.append({'first_name': 'Josy', 'last_name':'Clarae', 'gender':'Female'}, ignore_index=True)\n",
    "df = df.append({'first_name': 'Vaughn', 'last_name':'Halegarth', 'gender':'Male'}, ignore_index=True)\n",
    "print(df)\n",
    "\n",
    "\n",
    "  first_name  last_name  gender\n",
    "0       Josy     Clarae  Female\n",
    "1     Vaughn  Halegarth    Male\n",
    "```"
   ]
  },
  {
   "cell_type": "code",
   "execution_count": 14,
   "metadata": {},
   "outputs": [
    {
     "name": "stdout",
     "output_type": "stream",
     "text": [
      "  Marca          Modelo    Engine   Power\n",
      "0  Ford        EcoSport  gasoline  125 CV\n",
      "1  Ford  Fiesta ST 2108  gasoline  200 CV\n",
      "2  Jeep        Cherokee    diesel  200 CV\n",
      "3  Jeep       gladiator    diesel  264 CV\n",
      "4  Audi          e-tron  Electric  402 CV\n",
      "5  Audi         A8 2018    hybrid  286 CV\n"
     ]
    }
   ],
   "source": [
    "import pandas as pd\n",
    "df = pd.DataFrame()\n",
    "df = pd.DataFrame(columns=['Marca','Modelo', 'Engine', 'Power'])\n",
    "df = df.append({'Marca': 'Ford', 'Modelo':'EcoSport','Engine':'gasoline', 'Power':'125 CV'}, ignore_index=True)\n",
    "df = df.append({'Marca': 'Ford', 'Modelo':'Fiesta ST 2108','Engine':'gasoline', 'Power':'200 CV'}, ignore_index=True)\n",
    "df = df.append({'Marca': 'Jeep', 'Modelo':'Cherokee','Engine':'diesel', 'Power':'200 CV'}, ignore_index=True)\n",
    "df = df.append({'Marca': 'Jeep', 'Modelo':'gladiator','Engine':'diesel', 'Power':'264 CV'}, ignore_index=True)\n",
    "df = df.append({'Marca': 'Audi', 'Modelo':'e-tron','Engine':'Electric', 'Power':'402 CV'}, ignore_index=True)\n",
    "df = df.append({'Marca': 'Audi', 'Modelo':'A8 2018','Engine':'hybrid', 'Power':'286 CV'}, ignore_index=True)\n",
    "print(df)"
   ]
  },
  {
   "cell_type": "markdown",
   "metadata": {},
   "source": [
    "<div class=\"alert alert-success\">\n",
    "\n",
    "**Creación de un DataFrame vacío con columnas e índices**\n",
    "\n",
    "4. Definir un DataFrame que contenga un listado de 4 parámetros de 6 modelos de celulares "
   ]
  },
  {
   "cell_type": "code",
   "execution_count": 15,
   "metadata": {},
   "outputs": [
    {
     "name": "stdout",
     "output_type": "stream",
     "text": [
      "     Marca       Modelo screen                          processor\n",
      "0  Samsung  Galaxy S10+   6.4\"                        Exynos 9820\n",
      "1  Samsung  Galaxy S20+   6.7\"               Octa-core Exynos 990\n",
      "2   Huawei     P40 Lite   6.4\"                Octa-core Kirin 810\n",
      "3   Huawei      Mate 20   6.5\"                          Octa Core\n",
      "4   Xiaomi        Mi 10  6.67\"  Octa Core Qualcomm Snapdragon 865\n",
      "5   Xiaomi     Redmi 9C  6.53\"       Octa Core MediaTek Helio G35\n"
     ]
    }
   ],
   "source": [
    "import pandas as pd\n",
    "df = pd.DataFrame()\n",
    "df = pd.DataFrame(columns=['Marca', 'Modelo', 'screen','processor'],index=range(6))\n",
    "df.iloc[0] = ['Samsung', 'Galaxy S10+', '6.4\"','Exynos 9820']\n",
    "df.iloc[1] = ['Samsung', 'Galaxy S20+', '6.7\"','Octa-core Exynos 990']\n",
    "df.iloc[2] = ['Huawei', 'P40 Lite', '6.4\"','Octa-core Kirin 810']\n",
    "df.iloc[3] = ['Huawei', 'Mate 20', '6.5\"','Octa Core']\n",
    "df.iloc[4] = ['Xiaomi', 'Mi 10', '6.67\"','Octa Core Qualcomm Snapdragon 865']\n",
    "df.iloc[5] = ['Xiaomi', 'Redmi 9C', '6.53\"','Octa Core MediaTek Helio G35']\n",
    "print(df)"
   ]
  }
 ],
 "metadata": {
  "kernelspec": {
   "display_name": "Python 3 (ipykernel)",
   "language": "python",
   "name": "python3"
  },
  "language_info": {
   "codemirror_mode": {
    "name": "ipython",
    "version": 3
   },
   "file_extension": ".py",
   "mimetype": "text/x-python",
   "name": "python",
   "nbconvert_exporter": "python",
   "pygments_lexer": "ipython3",
   "version": "3.9.6"
  }
 },
 "nbformat": 4,
 "nbformat_minor": 4
}
